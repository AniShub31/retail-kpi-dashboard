{
 "cells": [
  {
   "cell_type": "code",
   "execution_count": 2,
   "id": "084f27af",
   "metadata": {},
   "outputs": [
    {
     "data": {
      "text/html": [
       "<div>\n",
       "<style scoped>\n",
       "    .dataframe tbody tr th:only-of-type {\n",
       "        vertical-align: middle;\n",
       "    }\n",
       "\n",
       "    .dataframe tbody tr th {\n",
       "        vertical-align: top;\n",
       "    }\n",
       "\n",
       "    .dataframe thead th {\n",
       "        text-align: right;\n",
       "    }\n",
       "</style>\n",
       "<table border=\"1\" class=\"dataframe\">\n",
       "  <thead>\n",
       "    <tr style=\"text-align: right;\">\n",
       "      <th></th>\n",
       "      <th>Transaction ID</th>\n",
       "      <th>Date</th>\n",
       "      <th>Customer ID</th>\n",
       "      <th>Gender</th>\n",
       "      <th>Age</th>\n",
       "      <th>Product Category</th>\n",
       "      <th>Quantity</th>\n",
       "      <th>Price per Unit</th>\n",
       "      <th>Total Amount</th>\n",
       "    </tr>\n",
       "  </thead>\n",
       "  <tbody>\n",
       "    <tr>\n",
       "      <th>0</th>\n",
       "      <td>1</td>\n",
       "      <td>2023-11-24</td>\n",
       "      <td>CUST001</td>\n",
       "      <td>Male</td>\n",
       "      <td>34</td>\n",
       "      <td>Beauty</td>\n",
       "      <td>3</td>\n",
       "      <td>50</td>\n",
       "      <td>150</td>\n",
       "    </tr>\n",
       "    <tr>\n",
       "      <th>1</th>\n",
       "      <td>2</td>\n",
       "      <td>2023-02-27</td>\n",
       "      <td>CUST002</td>\n",
       "      <td>Female</td>\n",
       "      <td>26</td>\n",
       "      <td>Clothing</td>\n",
       "      <td>2</td>\n",
       "      <td>500</td>\n",
       "      <td>1000</td>\n",
       "    </tr>\n",
       "    <tr>\n",
       "      <th>2</th>\n",
       "      <td>3</td>\n",
       "      <td>2023-01-13</td>\n",
       "      <td>CUST003</td>\n",
       "      <td>Male</td>\n",
       "      <td>50</td>\n",
       "      <td>Electronics</td>\n",
       "      <td>1</td>\n",
       "      <td>30</td>\n",
       "      <td>30</td>\n",
       "    </tr>\n",
       "    <tr>\n",
       "      <th>3</th>\n",
       "      <td>4</td>\n",
       "      <td>2023-05-21</td>\n",
       "      <td>CUST004</td>\n",
       "      <td>Male</td>\n",
       "      <td>37</td>\n",
       "      <td>Clothing</td>\n",
       "      <td>1</td>\n",
       "      <td>500</td>\n",
       "      <td>500</td>\n",
       "    </tr>\n",
       "    <tr>\n",
       "      <th>4</th>\n",
       "      <td>5</td>\n",
       "      <td>2023-05-06</td>\n",
       "      <td>CUST005</td>\n",
       "      <td>Male</td>\n",
       "      <td>30</td>\n",
       "      <td>Beauty</td>\n",
       "      <td>2</td>\n",
       "      <td>50</td>\n",
       "      <td>100</td>\n",
       "    </tr>\n",
       "  </tbody>\n",
       "</table>\n",
       "</div>"
      ],
      "text/plain": [
       "   Transaction ID        Date Customer ID  Gender  Age Product Category  \\\n",
       "0               1  2023-11-24     CUST001    Male   34           Beauty   \n",
       "1               2  2023-02-27     CUST002  Female   26         Clothing   \n",
       "2               3  2023-01-13     CUST003    Male   50      Electronics   \n",
       "3               4  2023-05-21     CUST004    Male   37         Clothing   \n",
       "4               5  2023-05-06     CUST005    Male   30           Beauty   \n",
       "\n",
       "   Quantity  Price per Unit  Total Amount  \n",
       "0         3              50           150  \n",
       "1         2             500          1000  \n",
       "2         1              30            30  \n",
       "3         1             500           500  \n",
       "4         2              50           100  "
      ]
     },
     "execution_count": 2,
     "metadata": {},
     "output_type": "execute_result"
    }
   ],
   "source": [
    "import pandas as pd\n",
    "\n",
    "# Load data\n",
    "df = pd.read_csv('../data/retail_sales_dataset.csv')\n",
    "\n",
    "# View the first 5 rows\n",
    "df.head()\n"
   ]
  },
  {
   "cell_type": "code",
   "execution_count": 3,
   "id": "4298f641",
   "metadata": {},
   "outputs": [
    {
     "name": "stdout",
     "output_type": "stream",
     "text": [
      "<class 'pandas.core.frame.DataFrame'>\n",
      "RangeIndex: 1000 entries, 0 to 999\n",
      "Data columns (total 9 columns):\n",
      " #   Column            Non-Null Count  Dtype \n",
      "---  ------            --------------  ----- \n",
      " 0   Transaction ID    1000 non-null   int64 \n",
      " 1   Date              1000 non-null   object\n",
      " 2   Customer ID       1000 non-null   object\n",
      " 3   Gender            1000 non-null   object\n",
      " 4   Age               1000 non-null   int64 \n",
      " 5   Product Category  1000 non-null   object\n",
      " 6   Quantity          1000 non-null   int64 \n",
      " 7   Price per Unit    1000 non-null   int64 \n",
      " 8   Total Amount      1000 non-null   int64 \n",
      "dtypes: int64(5), object(4)\n",
      "memory usage: 70.4+ KB\n"
     ]
    }
   ],
   "source": [
    "# Inspect columns, types, and non-null counts\n",
    "df.info()\n"
   ]
  },
  {
   "cell_type": "code",
   "execution_count": 4,
   "id": "bc55e0b1",
   "metadata": {},
   "outputs": [
    {
     "name": "stdout",
     "output_type": "stream",
     "text": [
      "Index(['Transaction ID', 'Date', 'Customer ID', 'Gender', 'Age',\n",
      "       'Product Category', 'Quantity', 'Price per Unit', 'Total Amount'],\n",
      "      dtype='object')\n",
      "\n",
      "Column: Date\n",
      "['2023-11-24' '2023-02-27' '2023-01-13' '2023-05-21' '2023-05-06'\n",
      " '2023-04-25' '2023-03-13' '2023-02-22' '2023-12-13' '2023-10-07']\n",
      "\n",
      "Column: Customer ID\n",
      "['CUST001' 'CUST002' 'CUST003' 'CUST004' 'CUST005' 'CUST006' 'CUST007'\n",
      " 'CUST008' 'CUST009' 'CUST010']\n",
      "\n",
      "Column: Gender\n",
      "['Male' 'Female']\n",
      "\n",
      "Column: Product Category\n",
      "['Beauty' 'Clothing' 'Electronics']\n"
     ]
    }
   ],
   "source": [
    "# List all column names\n",
    "print(df.columns)\n",
    "\n",
    "# See unique values for object-type columns\n",
    "for col in df.select_dtypes('object').columns:\n",
    "    print(f\"\\nColumn: {col}\")\n",
    "    print(df[col].unique()[:10])  # Show up to 10 unique values for review\n"
   ]
  },
  {
   "cell_type": "code",
   "execution_count": 5,
   "id": "314476bb",
   "metadata": {},
   "outputs": [
    {
     "data": {
      "text/plain": [
       "Transaction ID      0\n",
       "Date                0\n",
       "Customer ID         0\n",
       "Gender              0\n",
       "Age                 0\n",
       "Product Category    0\n",
       "Quantity            0\n",
       "Price per Unit      0\n",
       "Total Amount        0\n",
       "dtype: int64"
      ]
     },
     "execution_count": 5,
     "metadata": {},
     "output_type": "execute_result"
    }
   ],
   "source": [
    "# Check if any nulls in columns, helps plan cleaning\n",
    "df.isna().sum()\n"
   ]
  },
  {
   "cell_type": "code",
   "execution_count": 6,
   "id": "2aab3b35",
   "metadata": {},
   "outputs": [],
   "source": [
    "# Clean and type-cast key columns\n",
    "# If 'Total Amount' or 'Quantity' seem like strings, convert them\n",
    "df['Total Amount'] = pd.to_numeric(df['Total Amount'].replace('[\\$,]', '', regex=True), errors='coerce')\n",
    "df['Quantity'] = pd.to_numeric(df['Quantity'], errors='coerce')\n",
    "\n",
    "# Convert 'Date' column to pandas datetime\n",
    "df['Date'] = pd.to_datetime(df['Date'], errors='coerce')\n"
   ]
  },
  {
   "cell_type": "code",
   "execution_count": 7,
   "id": "6c9d7817",
   "metadata": {},
   "outputs": [
    {
     "data": {
      "text/html": [
       "<div>\n",
       "<style scoped>\n",
       "    .dataframe tbody tr th:only-of-type {\n",
       "        vertical-align: middle;\n",
       "    }\n",
       "\n",
       "    .dataframe tbody tr th {\n",
       "        vertical-align: top;\n",
       "    }\n",
       "\n",
       "    .dataframe thead th {\n",
       "        text-align: right;\n",
       "    }\n",
       "</style>\n",
       "<table border=\"1\" class=\"dataframe\">\n",
       "  <thead>\n",
       "    <tr style=\"text-align: right;\">\n",
       "      <th></th>\n",
       "      <th>Transaction ID</th>\n",
       "      <th>Date</th>\n",
       "      <th>Customer ID</th>\n",
       "      <th>Gender</th>\n",
       "      <th>Age</th>\n",
       "      <th>Product Category</th>\n",
       "      <th>Quantity</th>\n",
       "      <th>Price per Unit</th>\n",
       "      <th>Total Amount</th>\n",
       "    </tr>\n",
       "  </thead>\n",
       "  <tbody>\n",
       "    <tr>\n",
       "      <th>0</th>\n",
       "      <td>1</td>\n",
       "      <td>2023-11-24</td>\n",
       "      <td>CUST001</td>\n",
       "      <td>Male</td>\n",
       "      <td>34</td>\n",
       "      <td>Beauty</td>\n",
       "      <td>3</td>\n",
       "      <td>50</td>\n",
       "      <td>150</td>\n",
       "    </tr>\n",
       "    <tr>\n",
       "      <th>1</th>\n",
       "      <td>2</td>\n",
       "      <td>2023-02-27</td>\n",
       "      <td>CUST002</td>\n",
       "      <td>Female</td>\n",
       "      <td>26</td>\n",
       "      <td>Clothing</td>\n",
       "      <td>2</td>\n",
       "      <td>500</td>\n",
       "      <td>1000</td>\n",
       "    </tr>\n",
       "    <tr>\n",
       "      <th>2</th>\n",
       "      <td>3</td>\n",
       "      <td>2023-01-13</td>\n",
       "      <td>CUST003</td>\n",
       "      <td>Male</td>\n",
       "      <td>50</td>\n",
       "      <td>Electronics</td>\n",
       "      <td>1</td>\n",
       "      <td>30</td>\n",
       "      <td>30</td>\n",
       "    </tr>\n",
       "    <tr>\n",
       "      <th>3</th>\n",
       "      <td>4</td>\n",
       "      <td>2023-05-21</td>\n",
       "      <td>CUST004</td>\n",
       "      <td>Male</td>\n",
       "      <td>37</td>\n",
       "      <td>Clothing</td>\n",
       "      <td>1</td>\n",
       "      <td>500</td>\n",
       "      <td>500</td>\n",
       "    </tr>\n",
       "    <tr>\n",
       "      <th>4</th>\n",
       "      <td>5</td>\n",
       "      <td>2023-05-06</td>\n",
       "      <td>CUST005</td>\n",
       "      <td>Male</td>\n",
       "      <td>30</td>\n",
       "      <td>Beauty</td>\n",
       "      <td>2</td>\n",
       "      <td>50</td>\n",
       "      <td>100</td>\n",
       "    </tr>\n",
       "  </tbody>\n",
       "</table>\n",
       "</div>"
      ],
      "text/plain": [
       "   Transaction ID       Date Customer ID  Gender  Age Product Category  \\\n",
       "0               1 2023-11-24     CUST001    Male   34           Beauty   \n",
       "1               2 2023-02-27     CUST002  Female   26         Clothing   \n",
       "2               3 2023-01-13     CUST003    Male   50      Electronics   \n",
       "3               4 2023-05-21     CUST004    Male   37         Clothing   \n",
       "4               5 2023-05-06     CUST005    Male   30           Beauty   \n",
       "\n",
       "   Quantity  Price per Unit  Total Amount  \n",
       "0         3              50           150  \n",
       "1         2             500          1000  \n",
       "2         1              30            30  \n",
       "3         1             500           500  \n",
       "4         2              50           100  "
      ]
     },
     "execution_count": 7,
     "metadata": {},
     "output_type": "execute_result"
    }
   ],
   "source": [
    "# Confirm new dtypes\n",
    "df.dtypes\n",
    "# Preview again to see cleaned values\n",
    "df.head()\n"
   ]
  },
  {
   "cell_type": "code",
   "execution_count": 9,
   "id": "23056212",
   "metadata": {},
   "outputs": [],
   "source": [
    "import matplotlib.pyplot as plt\n",
    "import seaborn as sns\n",
    "\n",
    "# Extract month-year for time analysis\n",
    "df['Month'] = df['Date'].dt.to_period('M')\n",
    "\n",
    "# Create age group bins for demographic analysis\n",
    "bins = [0, 18, 30, 45, 60, 100]\n",
    "labels = ['<18', '18-30', '31-45', '46-60', '60+']\n",
    "df['Age Group'] = pd.cut(df['Age'], bins=bins, labels=labels)\n"
   ]
  },
  {
   "cell_type": "code",
   "execution_count": 11,
   "id": "d811aeef",
   "metadata": {},
   "outputs": [
    {
     "data": {
      "image/png": "[encoded data removed]",
      "text/plain": [
       "<Figure size 1200x600 with 1 Axes>"
      ]
     },
     "metadata": {},
     "output_type": "display_data"
    }
   ],
   "source": [
    "# Ensure 'Month' is a string for plotting\n",
    "monthly_sales['Month'] = monthly_sales['Month'].astype(str)\n",
    "\n",
    "plt.figure(figsize=(12,6))\n",
    "sns.lineplot(x='Month', y='Total Amount', data=monthly_sales, marker='o')\n",
    "plt.title('Monthly Total Sales')\n",
    "plt.xlabel('Month-Year')\n",
    "plt.ylabel('Total Sales')\n",
    "plt.xticks(rotation=45)\n",
    "plt.tight_layout()\n",
    "plt.savefig('../images/monthly_sales.png')\n",
    "plt.show()\n"
   ]
  },
  {
   "cell_type": "code",
   "execution_count": 12,
   "id": "35eb4e02",
   "metadata": {},
   "outputs": [
    {
     "data": {
      "image/png": "[encoded data removed]",
      "text/plain": [
       "<Figure size 1000x500 with 1 Axes>"
      ]
     },
     "metadata": {},
     "output_type": "display_data"
    }
   ],
   "source": [
    "sales_by_category = df.groupby('Product Category')['Total Amount'].sum().reset_index()\n",
    "\n",
    "plt.figure(figsize=(10,5))\n",
    "sns.barplot(x='Product Category', y='Total Amount', data=sales_by_category)\n",
    "plt.title('Total Sales by Product Category')\n",
    "plt.xlabel('Product Category')\n",
    "plt.ylabel('Total Sales')\n",
    "plt.xticks(rotation=45)\n",
    "plt.tight_layout()\n",
    "plt.savefig('../images/sales_by_category.png')\n",
    "plt.show()\n"
   ]
  },
  {
   "cell_type": "code",
   "execution_count": 13,
   "id": "47466f61",
   "metadata": {},
   "outputs": [
    {
     "data": {
      "image/png": "[encoded data removed]",
      "text/plain": [
       "<Figure size 600x400 with 1 Axes>"
      ]
     },
     "metadata": {},
     "output_type": "display_data"
    },
    {
     "name": "stderr",
     "output_type": "stream",
     "text": [
      "C:\\Users\\Admin\\AppData\\Local\\Temp\\ipykernel_21332\\3445691981.py:11: FutureWarning: The default of observed=False is deprecated and will be changed to True in a future version of pandas. Pass observed=False to retain current behavior or observed=True to adopt the future default and silence this warning.\n",
      "  sales_by_agegroup = df.groupby('Age Group')['Total Amount'].sum().reset_index()\n"
     ]
    },
    {
     "data": {
      "image/png": "[encoded data removed]",
      "text/plain": [
       "<Figure size 800x500 with 1 Axes>"
      ]
     },
     "metadata": {},
     "output_type": "display_data"
    }
   ],
   "source": [
    "# Sales by Gender\n",
    "sales_by_gender = df.groupby('Gender')['Total Amount'].sum().reset_index()\n",
    "plt.figure(figsize=(6,4))\n",
    "sns.barplot(x='Gender', y='Total Amount', data=sales_by_gender)\n",
    "plt.title('Total Sales by Gender')\n",
    "plt.tight_layout()\n",
    "plt.savefig('../images/sales_by_gender.png')\n",
    "plt.show()\n",
    "\n",
    "# Sales by Age Group\n",
    "sales_by_agegroup = df.groupby('Age Group')['Total Amount'].sum().reset_index()\n",
    "plt.figure(figsize=(8,5))\n",
    "sns.barplot(x='Age Group', y='Total Amount', data=sales_by_agegroup)\n",
    "plt.title('Total Sales by Age Group')\n",
    "plt.tight_layout()\n",
    "plt.savefig('../images/sales_by_agegroup.png')\n",
    "plt.show()\n"
   ]
  },
  {
   "cell_type": "code",
   "execution_count": 14,
   "id": "e45103c0",
   "metadata": {},
   "outputs": [
    {
     "name": "stdout",
     "output_type": "stream",
     "text": [
      "Total Sales: 456,000.00\n"
     ]
    }
   ],
   "source": [
    "total_sales = df['Total Amount'].sum()\n",
    "print(f\"Total Sales: {total_sales:,.2f}\")\n"
   ]
  },
  {
   "cell_type": "code",
   "execution_count": 15,
   "id": "d2856eb0",
   "metadata": {},
   "outputs": [
    {
     "name": "stdout",
     "output_type": "stream",
     "text": [
      "Average Order Value (AOV): 456.00\n"
     ]
    }
   ],
   "source": [
    "aov = df['Total Amount'].mean()\n",
    "print(f\"Average Order Value (AOV): {aov:,.2f}\")\n"
   ]
  },
  {
   "cell_type": "code",
   "execution_count": 16,
   "id": "512d9d20",
   "metadata": {},
   "outputs": [
    {
     "name": "stdout",
     "output_type": "stream",
     "text": [
      "Total Quantity Sold: 2,514\n"
     ]
    }
   ],
   "source": [
    "total_quantity = df['Quantity'].sum()\n",
    "print(f\"Total Quantity Sold: {total_quantity:,}\")\n"
   ]
  },
  {
   "cell_type": "code",
   "execution_count": 17,
   "id": "0708d46f",
   "metadata": {},
   "outputs": [
    {
     "name": "stdout",
     "output_type": "stream",
     "text": [
      "Average Basket Size (Qty/Transaction): 2.51\n"
     ]
    }
   ],
   "source": [
    "average_basket_size = df['Quantity'].mean()\n",
    "print(f\"Average Basket Size (Qty/Transaction): {average_basket_size:.2f}\")\n"
   ]
  },
  {
   "cell_type": "code",
   "execution_count": 18,
   "id": "7f82a12e",
   "metadata": {},
   "outputs": [
    {
     "name": "stdout",
     "output_type": "stream",
     "text": [
      "Top 5 Product Categories by Sales:\n",
      "Product Category\n",
      "Electronics    156905\n",
      "Clothing       155580\n",
      "Beauty         143515\n",
      "Name: Total Amount, dtype: int64\n"
     ]
    }
   ],
   "source": [
    "sales_by_category = df.groupby('Product Category')['Total Amount'].sum().sort_values(ascending=False).head(5)\n",
    "print(\"Top 5 Product Categories by Sales:\")\n",
    "print(sales_by_category)\n"
   ]
  },
  {
   "cell_type": "code",
   "execution_count": 19,
   "id": "1a521571",
   "metadata": {},
   "outputs": [
    {
     "name": "stdout",
     "output_type": "stream",
     "text": [
      "\n",
      "Total Sales by Gender:\n",
      "Gender\n",
      "Female    232840\n",
      "Male      223160\n",
      "Name: Total Amount, dtype: int64\n",
      "\n",
      "Total Sales by Age Group:\n",
      "Age Group\n",
      "<18       11215\n",
      "18-30    121730\n",
      "31-45    141955\n",
      "46-60    147875\n",
      "60+       33225\n",
      "Name: Total Amount, dtype: int64\n"
     ]
    },
    {
     "name": "stderr",
     "output_type": "stream",
     "text": [
      "C:\\Users\\Admin\\AppData\\Local\\Temp\\ipykernel_21332\\1798915655.py:7: FutureWarning: The default of observed=False is deprecated and will be changed to True in a future version of pandas. Pass observed=False to retain current behavior or observed=True to adopt the future default and silence this warning.\n",
      "  sales_by_agegroup = df.groupby('Age Group')['Total Amount'].sum()\n"
     ]
    }
   ],
   "source": [
    "# Sales by Gender\n",
    "sales_by_gender = df.groupby('Gender')['Total Amount'].sum()\n",
    "print(\"\\nTotal Sales by Gender:\")\n",
    "print(sales_by_gender)\n",
    "\n",
    "# Sales by Age Group\n",
    "sales_by_agegroup = df.groupby('Age Group')['Total Amount'].sum()\n",
    "print(\"\\nTotal Sales by Age Group:\")\n",
    "print(sales_by_agegroup)\n"
   ]
  },
  {
   "cell_type": "code",
   "execution_count": 20,
   "id": "785e4e8c",
   "metadata": {},
   "outputs": [
    {
     "name": "stdout",
     "output_type": "stream",
     "text": [
      "\n",
      "Monthly Total Sales:\n",
      "Month\n",
      "2023-01    35450\n",
      "2023-02    44060\n",
      "2023-03    28990\n",
      "2023-04    33870\n",
      "2023-05    53150\n",
      "2023-06    36715\n",
      "2023-07    35465\n",
      "2023-08    36960\n",
      "2023-09    23620\n",
      "2023-10    46580\n",
      "2023-11    34920\n",
      "2023-12    44690\n",
      "2024-01     1530\n",
      "Name: Total Amount, dtype: int64\n"
     ]
    }
   ],
   "source": [
    "monthly_sales_summary = df.groupby(df['Month'].astype(str))['Total Amount'].sum()\n",
    "print(\"\\nMonthly Total Sales:\")\n",
    "print(monthly_sales_summary)\n"
   ]
  },
  {
   "cell_type": "code",
   "execution_count": 21,
   "id": "2f286b3d",
   "metadata": {},
   "outputs": [
    {
     "name": "stdout",
     "output_type": "stream",
     "text": [
      "\n",
      "Number of Unique Customers: 1000\n"
     ]
    }
   ],
   "source": [
    "customer_count = df['Customer ID'].nunique()\n",
    "print(f\"\\nNumber of Unique Customers: {customer_count}\")\n"
   ]
  },
  {
   "cell_type": "code",
   "execution_count": 22,
   "id": "8d49cf21",
   "metadata": {},
   "outputs": [
    {
     "name": "stdout",
     "output_type": "stream",
     "text": [
      "Repeat Customer Rate: 0.0%  (customers with >1 purchase)\n"
     ]
    }
   ],
   "source": [
    "customer_tx_counts = df['Customer ID'].value_counts()\n",
    "repeat_customers = (customer_tx_counts > 1).sum()\n",
    "repeat_customer_rate = repeat_customers / customer_count * 100\n",
    "print(f\"Repeat Customer Rate: {repeat_customer_rate:.1f}%  (customers with >1 purchase)\")\n"
   ]
  },
  {
   "cell_type": "code",
   "execution_count": 23,
   "id": "8745298e",
   "metadata": {},
   "outputs": [
    {
     "name": "stdout",
     "output_type": "stream",
     "text": [
      "\n",
      "Monthly Sales by Category:\n",
      "Product Category  Beauty  Clothing  Electronics\n",
      "Month                                          \n",
      "2023-01            12430     13125         9895\n",
      "2023-02            14035     14560        15465\n",
      "2023-03            10545     15065         3380\n",
      "2023-04            11905     13940         8025\n",
      "2023-05            12450     17455        23245\n",
      "2023-06            10995     10170        15550\n",
      "2023-07            16090      8250        11125\n",
      "2023-08             9790     12455        14715\n",
      "2023-09             6320      9975         7325\n",
      "2023-10            15355     13315        17910\n",
      "2023-11             9700     15200        10020\n",
      "2023-12            12400     12070        20220\n",
      "2024-01             1500         0           30\n"
     ]
    }
   ],
   "source": [
    "# Create a pivot: each row = month, each column = category, values = total sales\n",
    "monthly_category_sales = pd.pivot_table(\n",
    "    df,\n",
    "    index=df['Month'].astype(str),\n",
    "    columns='Product Category',\n",
    "    values='Total Amount',\n",
    "    aggfunc='sum',\n",
    "    fill_value=0\n",
    ")\n",
    "print(\"\\nMonthly Sales by Category:\")\n",
    "print(monthly_category_sales.round(2))\n"
   ]
  },
  {
   "cell_type": "code",
   "execution_count": 24,
   "id": "1172a36e",
   "metadata": {},
   "outputs": [
    {
     "name": "stdout",
     "output_type": "stream",
     "text": [
      "\n",
      "Monthly Sales by Gender:\n",
      "Gender   Female   Male\n",
      "Month                 \n",
      "2023-01   24725  10725\n",
      "2023-02   14395  29665\n",
      "2023-03   13320  15670\n",
      "2023-04   17300  16570\n",
      "2023-05   23930  29220\n",
      "2023-06   16875  19840\n",
      "2023-07   16885  18580\n",
      "2023-08   22080  14880\n",
      "2023-09   16535   7085\n",
      "2023-10   26600  19980\n",
      "2023-11   14890  20030\n",
      "2023-12   25305  19385\n",
      "2024-01       0   1530\n"
     ]
    }
   ],
   "source": [
    "monthly_gender_sales = pd.pivot_table(\n",
    "    df,\n",
    "    index=df['Month'].astype(str),\n",
    "    columns='Gender',\n",
    "    values='Total Amount',\n",
    "    aggfunc='sum',\n",
    "    fill_value=0\n",
    ")\n",
    "print(\"\\nMonthly Sales by Gender:\")\n",
    "print(monthly_gender_sales.round(2))\n"
   ]
  },
  {
   "cell_type": "code",
   "execution_count": 25,
   "id": "9be64514",
   "metadata": {},
   "outputs": [
    {
     "name": "stdout",
     "output_type": "stream",
     "text": [
      "\n",
      "Monthly Total Quantity Sold:\n",
      "Month\n",
      "2023-01    195\n",
      "2023-02    214\n",
      "2023-03    194\n",
      "2023-04    214\n",
      "2023-05    259\n",
      "2023-06    197\n",
      "2023-07    176\n",
      "2023-08    227\n",
      "2023-09    170\n",
      "2023-10    252\n",
      "2023-11    205\n",
      "2023-12    207\n",
      "2024-01      4\n",
      "Name: Quantity, dtype: int64\n",
      "\n",
      "Monthly Quantity Sold by Category:\n",
      "Product Category  Beauty  Clothing  Electronics\n",
      "Month                                          \n",
      "2023-01               59        72           64\n",
      "2023-02               68        75           71\n",
      "2023-03               51       111           32\n",
      "2023-04               69        93           52\n",
      "2023-05               65        97           97\n",
      "2023-06               66        67           64\n",
      "2023-07               70        45           61\n",
      "2023-08               62        78           87\n",
      "2023-09               50        60           60\n",
      "2023-10               83        74           95\n",
      "2023-11               63        69           73\n",
      "2023-12               62        53           92\n",
      "2024-01                3         0            1\n"
     ]
    }
   ],
   "source": [
    "monthly_total_qty = df.groupby(df['Month'].astype(str))['Quantity'].sum()\n",
    "print(\"\\nMonthly Total Quantity Sold:\")\n",
    "print(monthly_total_qty)\n",
    "\n",
    "monthly_category_qty = pd.pivot_table(\n",
    "    df,\n",
    "    index=df['Month'].astype(str),\n",
    "    columns='Product Category',\n",
    "    values='Quantity',\n",
    "    aggfunc='sum',\n",
    "    fill_value=0\n",
    ")\n",
    "print(\"\\nMonthly Quantity Sold by Category:\")\n",
    "print(monthly_category_qty.round(0))\n"
   ]
  },
  {
   "cell_type": "code",
   "execution_count": 26,
   "id": "4c4cba4c",
   "metadata": {},
   "outputs": [
    {
     "name": "stdout",
     "output_type": "stream",
     "text": [
      "\n",
      "Total Sales by Age Group:\n",
      "Age Group\n",
      "<18       11215\n",
      "18-30    121730\n",
      "31-45    141955\n",
      "46-60    147875\n",
      "60+       33225\n",
      "Name: Total Amount, dtype: int64\n",
      "\n",
      "Monthly Sales by Age Group:\n",
      "Age Group   <18  18-30  31-45  46-60   60+\n",
      "Month                                     \n",
      "2023-01      90   8090  13870  12880   520\n",
      "2023-02     620  18235  13195  10360  1650\n",
      "2023-03    1300   8360   7130   8550  3650\n",
      "2023-04    1200   5735  21295   3765  1875\n",
      "2023-05     740  13890   9775  23795  4950\n",
      "2023-06      50  10520  12445  10715  2985\n",
      "2023-07      90  13790   7765  10430  3390\n",
      "2023-08       0   9630   5010  18770  3550\n",
      "2023-09     225   8360   5200   7095  2740\n",
      "2023-10     100  10345  15565  15675  4895\n",
      "2023-11    6700   7645   9425  10020  1130\n",
      "2023-12     100   7130  19780  15790  1890\n",
      "2024-01       0      0   1500     30     0\n"
     ]
    },
    {
     "name": "stderr",
     "output_type": "stream",
     "text": [
      "C:\\Users\\Admin\\AppData\\Local\\Temp\\ipykernel_21332\\3991847447.py:2: FutureWarning: The default of observed=False is deprecated and will be changed to True in a future version of pandas. Pass observed=False to retain current behavior or observed=True to adopt the future default and silence this warning.\n",
      "  sales_by_agegroup = df.groupby('Age Group')['Total Amount'].sum()\n",
      "C:\\Users\\Admin\\AppData\\Local\\Temp\\ipykernel_21332\\3991847447.py:7: FutureWarning: The default value of observed=False is deprecated and will change to observed=True in a future version of pandas. Specify observed=False to silence this warning and retain the current behavior\n",
      "  monthly_agegroup_sales = pd.pivot_table(\n"
     ]
    }
   ],
   "source": [
    "# Overall\n",
    "sales_by_agegroup = df.groupby('Age Group')['Total Amount'].sum()\n",
    "print(\"\\nTotal Sales by Age Group:\")\n",
    "print(sales_by_agegroup)\n",
    "\n",
    "# Monthly Age Group Pivot\n",
    "monthly_agegroup_sales = pd.pivot_table(\n",
    "    df,\n",
    "    index=df['Month'].astype(str),\n",
    "    columns='Age Group',\n",
    "    values='Total Amount',\n",
    "    aggfunc='sum',\n",
    "    fill_value=0\n",
    ")\n",
    "print(\"\\nMonthly Sales by Age Group:\")\n",
    "print(monthly_agegroup_sales.round(2))\n"
   ]
  }
 ],
 "metadata": {
  "kernelspec": {
   "display_name": "Python 3",
   "language": "python",
   "name": "python3"
  },
  "language_info": {
   "codemirror_mode": {
    "name": "ipython",
    "version": 3
   },
   "file_extension": ".py",
   "mimetype": "text/x-python",
   "name": "python",
   "nbconvert_exporter": "python",
   "pygments_lexer": "ipython3",
   "version": "3.11.9"
  }
 },
 "nbformat": 4,
 "nbformat_minor": 5
}
